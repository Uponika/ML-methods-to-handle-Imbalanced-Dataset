{
 "cells": [
  {
   "cell_type": "code",
   "execution_count": 1,
   "metadata": {},
   "outputs": [],
   "source": [
    "import matplotlib.pyplot as plt\n",
    "import pandas as pd\n",
    "from sklearn.datasets import make_classification\n",
    "from sklearn.decomposition import PCA\n",
    "\n",
    "\n",
    "from imblearn.over_sampling import ADASYN\n",
    "\n",
    "\n",
    "data = pd.read_csv(\"creditcard.csv\")\n",
    "# Generate the dataset\n",
    "X = data.drop('Class', axis=1)  \n",
    "y = data['Class']\n",
    "from sklearn.model_selection import train_test_split  \n",
    "X_train, X_test, y_train, y_test = train_test_split(X, y, test_size = 0.20)\n"
   ]
  },
  {
   "cell_type": "code",
   "execution_count": 2,
   "metadata": {},
   "outputs": [
    {
     "name": "stdout",
     "output_type": "stream",
     "text": [
      "accuracy =  99.89291106351604 %\n"
     ]
    }
   ],
   "source": [
    "from sklearn.linear_model import LogisticRegression\n",
    "data_Check = LogisticRegression()\n",
    "data_Check.fit(X_train, y_train)\n",
    "y_pred = data_Check.predict(X_test)\n",
    "correct = (y_pred == y_test).sum()\n",
    "accuracy = correct/len(y_test)*100\n",
    "print(\"accuracy = \", accuracy, \"%\")"
   ]
  },
  {
   "cell_type": "code",
   "execution_count": 3,
   "metadata": {},
   "outputs": [],
   "source": [
    "# Instanciate a PCA object for the sake of easy visualisation\n",
    "\n",
    "# Apply the random over-sampling\n",
    "ada = ADASYN()\n",
    "X_resampled, y_resampled = ada.fit_sample(X, y)\n",
    "\n",
    "\n"
   ]
  },
  {
   "cell_type": "code",
   "execution_count": 4,
   "metadata": {},
   "outputs": [
    {
     "data": {
      "text/plain": [
       "array([284315, 284298], dtype=int64)"
      ]
     },
     "execution_count": 4,
     "metadata": {},
     "output_type": "execute_result"
    }
   ],
   "source": [
    "import numpy as np\n",
    "np.bincount(y_resampled)"
   ]
  },
  {
   "cell_type": "code",
   "execution_count": 5,
   "metadata": {},
   "outputs": [
    {
     "name": "stdout",
     "output_type": "stream",
     "text": [
      "accuracy =  97.8775323900144 %\n"
     ]
    }
   ],
   "source": [
    "from sklearn.linear_model import LogisticRegression\n",
    "data_Check = LogisticRegression()\n",
    "data_Check.fit(X_resampled, y_resampled)\n",
    "y_pred = data_Check.predict(X_test)\n",
    "correct = (y_pred == y_test).sum()\n",
    "accuracy = correct/len(y_test)*100\n",
    "print(\"accuracy = \", accuracy, \"%\")"
   ]
  },
  {
   "cell_type": "code",
   "execution_count": 6,
   "metadata": {},
   "outputs": [
    {
     "name": "stderr",
     "output_type": "stream",
     "text": [
      "C:\\Users\\Uponika\\Anaconda3\\lib\\site-packages\\sklearn\\ensemble\\weight_boosting.py:29: DeprecationWarning: numpy.core.umath_tests is an internal NumPy module and should not be imported. It will be removed in a future NumPy release.\n",
      "  from numpy.core.umath_tests import inner1d\n"
     ]
    },
    {
     "name": "stdout",
     "output_type": "stream",
     "text": [
      "accuracy =  99.9385555282469 %\n"
     ]
    }
   ],
   "source": [
    "from sklearn.ensemble import RandomForestClassifier\n",
    "data_Check= RandomForestClassifier(random_state=1)\n",
    "data_Check.fit(X_train, y_train)\n",
    "y_pred = data_Check.predict(X_test)\n",
    "correct = (y_pred == y_test).sum()\n",
    "accuracy = correct/len(y_test)*100\n",
    "print(\"accuracy = \", accuracy, \"%\")"
   ]
  },
  {
   "cell_type": "code",
   "execution_count": 7,
   "metadata": {},
   "outputs": [
    {
     "name": "stdout",
     "output_type": "stream",
     "text": [
      "accuracy =  99.9929777746568 %\n"
     ]
    }
   ],
   "source": [
    "from sklearn.ensemble import RandomForestClassifier\n",
    "data_Check= RandomForestClassifier(random_state=1)\n",
    "data_Check.fit(X_resampled, y_resampled)\n",
    "y_pred = data_Check.predict(X_test)\n",
    "correct = (y_pred == y_test).sum()\n",
    "accuracy = correct/len(y_test)*100\n",
    "print(\"accuracy = \", accuracy, \"%\")"
   ]
  },
  {
   "cell_type": "code",
   "execution_count": 8,
   "metadata": {},
   "outputs": [
    {
     "name": "stdout",
     "output_type": "stream",
     "text": [
      "accuracy =  100.0 %\n"
     ]
    }
   ],
   "source": [
    "from sklearn.tree import DecisionTreeClassifier  \n",
    "data_classifier = DecisionTreeClassifier()  \n",
    "data_classifier.fit(X_resampled, y_resampled) \n",
    "y_pred = data_classifier.predict(X_test)\n",
    "\n",
    "\n",
    "correct = (y_pred==y_test).sum()\n",
    "accuracy = correct/len(y_test)*100\n",
    "print(\"accuracy = \", accuracy, \"%\")\n"
   ]
  },
  {
   "cell_type": "code",
   "execution_count": 9,
   "metadata": {},
   "outputs": [
    {
     "name": "stdout",
     "output_type": "stream",
     "text": [
      "accuracy =  99.91924440855307 %\n"
     ]
    }
   ],
   "source": [
    "from sklearn.tree import DecisionTreeClassifier  \n",
    "data_classifier = DecisionTreeClassifier()  \n",
    "data_classifier.fit(X_train, y_train) \n",
    "y_pred = data_classifier.predict(X_test)\n",
    "\n",
    "\n",
    "correct = (y_pred==y_test).sum()\n",
    "accuracy = correct/len(y_test)*100\n",
    "print(\"accuracy = \", accuracy, \"%\")\n"
   ]
  },
  {
   "cell_type": "code",
   "execution_count": null,
   "metadata": {},
   "outputs": [],
   "source": []
  }
 ],
 "metadata": {
  "kernelspec": {
   "display_name": "Python 3",
   "language": "python",
   "name": "python3"
  },
  "language_info": {
   "codemirror_mode": {
    "name": "ipython",
    "version": 3
   },
   "file_extension": ".py",
   "mimetype": "text/x-python",
   "name": "python",
   "nbconvert_exporter": "python",
   "pygments_lexer": "ipython3",
   "version": "3.7.0"
  }
 },
 "nbformat": 4,
 "nbformat_minor": 2
}
